{
 "cells": [
  {
   "cell_type": "markdown",
   "metadata": {},
   "source": [
    "### Note\n",
    "* Instructions have been included for each segment. You do not have to follow them exactly, but they are included to help you think through the steps."
   ]
  },
  {
   "cell_type": "code",
   "execution_count": 1,
   "metadata": {},
   "outputs": [
    {
     "data": {
      "text/html": [
       "<div>\n",
       "<style scoped>\n",
       "    .dataframe tbody tr th:only-of-type {\n",
       "        vertical-align: middle;\n",
       "    }\n",
       "\n",
       "    .dataframe tbody tr th {\n",
       "        vertical-align: top;\n",
       "    }\n",
       "\n",
       "    .dataframe thead th {\n",
       "        text-align: right;\n",
       "    }\n",
       "</style>\n",
       "<table border=\"1\" class=\"dataframe\">\n",
       "  <thead>\n",
       "    <tr style=\"text-align: right;\">\n",
       "      <th></th>\n",
       "      <th>Purchase ID</th>\n",
       "      <th>SN</th>\n",
       "      <th>Age</th>\n",
       "      <th>Gender</th>\n",
       "      <th>Item ID</th>\n",
       "      <th>Item Name</th>\n",
       "      <th>Price</th>\n",
       "    </tr>\n",
       "  </thead>\n",
       "  <tbody>\n",
       "    <tr>\n",
       "      <th>0</th>\n",
       "      <td>0</td>\n",
       "      <td>Lisim78</td>\n",
       "      <td>20</td>\n",
       "      <td>Male</td>\n",
       "      <td>108</td>\n",
       "      <td>Extraction, Quickblade Of Trembling Hands</td>\n",
       "      <td>3.53</td>\n",
       "    </tr>\n",
       "    <tr>\n",
       "      <th>1</th>\n",
       "      <td>1</td>\n",
       "      <td>Lisovynya38</td>\n",
       "      <td>40</td>\n",
       "      <td>Male</td>\n",
       "      <td>143</td>\n",
       "      <td>Frenzied Scimitar</td>\n",
       "      <td>1.56</td>\n",
       "    </tr>\n",
       "    <tr>\n",
       "      <th>2</th>\n",
       "      <td>2</td>\n",
       "      <td>Ithergue48</td>\n",
       "      <td>24</td>\n",
       "      <td>Male</td>\n",
       "      <td>92</td>\n",
       "      <td>Final Critic</td>\n",
       "      <td>4.88</td>\n",
       "    </tr>\n",
       "    <tr>\n",
       "      <th>3</th>\n",
       "      <td>3</td>\n",
       "      <td>Chamassasya86</td>\n",
       "      <td>24</td>\n",
       "      <td>Male</td>\n",
       "      <td>100</td>\n",
       "      <td>Blindscythe</td>\n",
       "      <td>3.27</td>\n",
       "    </tr>\n",
       "    <tr>\n",
       "      <th>4</th>\n",
       "      <td>4</td>\n",
       "      <td>Iskosia90</td>\n",
       "      <td>23</td>\n",
       "      <td>Male</td>\n",
       "      <td>131</td>\n",
       "      <td>Fury</td>\n",
       "      <td>1.44</td>\n",
       "    </tr>\n",
       "  </tbody>\n",
       "</table>\n",
       "</div>"
      ],
      "text/plain": [
       "   Purchase ID             SN  Age Gender  Item ID  \\\n",
       "0            0        Lisim78   20   Male      108   \n",
       "1            1    Lisovynya38   40   Male      143   \n",
       "2            2     Ithergue48   24   Male       92   \n",
       "3            3  Chamassasya86   24   Male      100   \n",
       "4            4      Iskosia90   23   Male      131   \n",
       "\n",
       "                                   Item Name  Price  \n",
       "0  Extraction, Quickblade Of Trembling Hands   3.53  \n",
       "1                          Frenzied Scimitar   1.56  \n",
       "2                               Final Critic   4.88  \n",
       "3                                Blindscythe   3.27  \n",
       "4                                       Fury   1.44  "
      ]
     },
     "execution_count": 1,
     "metadata": {},
     "output_type": "execute_result"
    }
   ],
   "source": [
    "# Dependencies and Setup\n",
    "import os\n",
    "import pandas as pd\n",
    "\n",
    "# File to Load (Remember to Change These)\n",
    "file_to_load = os.path.join('resources', 'purchase_data.csv')\n",
    "\n",
    "# Read Purchasing File and store into Pandas data frame\n",
    "purchase_data_df = pd.read_csv(file_to_load, delimiter=',')\n",
    "purchase_data_df.head()"
   ]
  },
  {
   "cell_type": "markdown",
   "metadata": {},
   "source": [
    "## Player Count"
   ]
  },
  {
   "cell_type": "markdown",
   "metadata": {},
   "source": [
    "* Display the total number of players\n"
   ]
  },
  {
   "cell_type": "code",
   "execution_count": 2,
   "metadata": {},
   "outputs": [
    {
     "data": {
      "text/html": [
       "<div>\n",
       "<style scoped>\n",
       "    .dataframe tbody tr th:only-of-type {\n",
       "        vertical-align: middle;\n",
       "    }\n",
       "\n",
       "    .dataframe tbody tr th {\n",
       "        vertical-align: top;\n",
       "    }\n",
       "\n",
       "    .dataframe thead th {\n",
       "        text-align: right;\n",
       "    }\n",
       "</style>\n",
       "<table border=\"1\" class=\"dataframe\">\n",
       "  <thead>\n",
       "    <tr style=\"text-align: right;\">\n",
       "      <th></th>\n",
       "      <th>Total Players</th>\n",
       "    </tr>\n",
       "  </thead>\n",
       "  <tbody>\n",
       "    <tr>\n",
       "      <th>0</th>\n",
       "      <td>576</td>\n",
       "    </tr>\n",
       "  </tbody>\n",
       "</table>\n",
       "</div>"
      ],
      "text/plain": [
       "   Total Players\n",
       "0            576"
      ]
     },
     "execution_count": 2,
     "metadata": {},
     "output_type": "execute_result"
    }
   ],
   "source": [
    "# Calculate the distinct count of players\n",
    "player_count = len(purchase_data_df['SN'].unique())\n",
    "\n",
    "# Create a new data frame to hold the total number of players\n",
    "players_df = pd.DataFrame({'Total Players': [player_count]})\n",
    "\n",
    "# Display the data frame\n",
    "players_df"
   ]
  },
  {
   "cell_type": "markdown",
   "metadata": {},
   "source": [
    "## Purchasing Analysis (Total)"
   ]
  },
  {
   "cell_type": "markdown",
   "metadata": {},
   "source": [
    "* Run basic calculations to obtain number of unique items, average price, etc.\n",
    "\n",
    "\n",
    "* Create a summary data frame to hold the results\n",
    "\n",
    "\n",
    "* Optional: give the displayed data cleaner formatting\n",
    "\n",
    "\n",
    "* Display the summary data frame\n"
   ]
  },
  {
   "cell_type": "code",
   "execution_count": 3,
   "metadata": {
    "scrolled": true
   },
   "outputs": [
    {
     "data": {
      "text/html": [
       "<style  type=\"text/css\" >\n",
       "</style><table id=\"T_d2aaf_\" ><thead>    <tr>        <th class=\"blank level0\" ></th>        <th class=\"col_heading level0 col0\" >Number of Unique Items</th>        <th class=\"col_heading level0 col1\" >Average Price</th>        <th class=\"col_heading level0 col2\" >Number of Purchases</th>        <th class=\"col_heading level0 col3\" >Total Revenue</th>    </tr></thead><tbody>\n",
       "                <tr>\n",
       "                        <th id=\"T_d2aaf_level0_row0\" class=\"row_heading level0 row0\" >0</th>\n",
       "                        <td id=\"T_d2aaf_row0_col0\" class=\"data row0 col0\" >179</td>\n",
       "                        <td id=\"T_d2aaf_row0_col1\" class=\"data row0 col1\" >$3.05</td>\n",
       "                        <td id=\"T_d2aaf_row0_col2\" class=\"data row0 col2\" >780</td>\n",
       "                        <td id=\"T_d2aaf_row0_col3\" class=\"data row0 col3\" >$2,379.77</td>\n",
       "            </tr>\n",
       "    </tbody></table>"
      ],
      "text/plain": [
       "<pandas.io.formats.style.Styler at 0x7f8e67812220>"
      ]
     },
     "execution_count": 3,
     "metadata": {},
     "output_type": "execute_result"
    }
   ],
   "source": [
    "# Calculate the number of unique items\n",
    "items = len(purchase_data_df['Item ID'].unique())\n",
    "\n",
    "# Calculate the average price\n",
    "avg_price = purchase_data_df['Price'].mean()\n",
    "\n",
    "# Calculate the total number of purchases\n",
    "purchases = len(purchase_data_df['Purchase ID'])\n",
    "\n",
    "# Calculate the total revenue\n",
    "revenue = purchase_data_df['Price'].sum()\n",
    "\n",
    "# Create a new data frame to hold the analysis\n",
    "analysis_df = pd.DataFrame({'Number of Unique Items': [items], \n",
    "                            'Average Price': [avg_price], \n",
    "                            'Number of Purchases': [purchases], \n",
    "                            'Total Revenue': [revenue]})\n",
    "\n",
    "# Format and display\n",
    "analysis_df.style.format({'Average Price': '${:,.2f}', 'Total Revenue': '${:,.2f}'})"
   ]
  },
  {
   "cell_type": "markdown",
   "metadata": {},
   "source": [
    "## Gender Demographics"
   ]
  },
  {
   "cell_type": "markdown",
   "metadata": {},
   "source": [
    "* Percentage and Count of Male Players\n",
    "\n",
    "\n",
    "* Percentage and Count of Female Players\n",
    "\n",
    "\n",
    "* Percentage and Count of Other / Non-Disclosed\n",
    "\n",
    "\n"
   ]
  },
  {
   "cell_type": "code",
   "execution_count": 4,
   "metadata": {},
   "outputs": [
    {
     "data": {
      "text/html": [
       "<style  type=\"text/css\" >\n",
       "</style><table id=\"T_453c8_\" ><thead>    <tr>        <th class=\"blank level0\" ></th>        <th class=\"col_heading level0 col0\" >Total Count</th>        <th class=\"col_heading level0 col1\" >Percentage of Players</th>    </tr></thead><tbody>\n",
       "                <tr>\n",
       "                        <th id=\"T_453c8_level0_row0\" class=\"row_heading level0 row0\" >Male</th>\n",
       "                        <td id=\"T_453c8_row0_col0\" class=\"data row0 col0\" >484</td>\n",
       "                        <td id=\"T_453c8_row0_col1\" class=\"data row0 col1\" >84.03%</td>\n",
       "            </tr>\n",
       "            <tr>\n",
       "                        <th id=\"T_453c8_level0_row1\" class=\"row_heading level0 row1\" >Female</th>\n",
       "                        <td id=\"T_453c8_row1_col0\" class=\"data row1 col0\" >81</td>\n",
       "                        <td id=\"T_453c8_row1_col1\" class=\"data row1 col1\" >14.06%</td>\n",
       "            </tr>\n",
       "            <tr>\n",
       "                        <th id=\"T_453c8_level0_row2\" class=\"row_heading level0 row2\" >Other / Non-Disclosed</th>\n",
       "                        <td id=\"T_453c8_row2_col0\" class=\"data row2 col0\" >11</td>\n",
       "                        <td id=\"T_453c8_row2_col1\" class=\"data row2 col1\" >1.91%</td>\n",
       "            </tr>\n",
       "    </tbody></table>"
      ],
      "text/plain": [
       "<pandas.io.formats.style.Styler at 0x7f8e6609c3a0>"
      ]
     },
     "execution_count": 4,
     "metadata": {},
     "output_type": "execute_result"
    }
   ],
   "source": [
    "# First, drop any duplicates in order to get a unique count\n",
    "unique = purchase_data_df[['Gender', 'SN']].drop_duplicates(subset = 'SN')\n",
    "\n",
    "# Count number of players by gender\n",
    "gender_tot = pd.DataFrame(unique['Gender'].value_counts())\n",
    "\n",
    "# Calculate percent of players by gender\n",
    "gender_pct = gender_tot / player_count\n",
    "\n",
    "# Reading the documentation I learned this also works to calculate the percent of players\n",
    "# gender_pct = pd.DataFrame(unique['Gender'].value_counts(normalize=True))\n",
    "\n",
    "# Merge these data frames and create a new data frame for gender demographics\n",
    "gender_demographics_df = gender_tot.merge(gender_pct, left_index=True, right_index=True)\n",
    "gender_demographics_df.columns = ['Total Count', 'Percentage of Players']\n",
    "\n",
    "# Format and display\n",
    "gender_demographics_df.style.format({'Percentage of Players': '{:,.2%}'})"
   ]
  },
  {
   "cell_type": "markdown",
   "metadata": {},
   "source": [
    "\n",
    "## Purchasing Analysis (Gender)"
   ]
  },
  {
   "cell_type": "markdown",
   "metadata": {},
   "source": [
    "* Run basic calculations to obtain purchase count, avg. purchase price, avg. purchase total per person etc. by gender\n",
    "\n",
    "\n",
    "\n",
    "\n",
    "* Create a summary data frame to hold the results\n",
    "\n",
    "\n",
    "* Optional: give the displayed data cleaner formatting\n",
    "\n",
    "\n",
    "* Display the summary data frame"
   ]
  },
  {
   "cell_type": "code",
   "execution_count": 5,
   "metadata": {},
   "outputs": [
    {
     "data": {
      "text/html": [
       "<style  type=\"text/css\" >\n",
       "</style><table id=\"T_64962_\" ><thead>    <tr>        <th class=\"blank level0\" ></th>        <th class=\"col_heading level0 col0\" >Purchase Count</th>        <th class=\"col_heading level0 col1\" >Average Purchase Price</th>        <th class=\"col_heading level0 col2\" >Total Purchase Value</th>        <th class=\"col_heading level0 col3\" >Avg Total Purchase per Person</th>    </tr>    <tr>        <th class=\"index_name level0\" >Gender</th>        <th class=\"blank\" ></th>        <th class=\"blank\" ></th>        <th class=\"blank\" ></th>        <th class=\"blank\" ></th>    </tr></thead><tbody>\n",
       "                <tr>\n",
       "                        <th id=\"T_64962_level0_row0\" class=\"row_heading level0 row0\" >Female</th>\n",
       "                        <td id=\"T_64962_row0_col0\" class=\"data row0 col0\" >113</td>\n",
       "                        <td id=\"T_64962_row0_col1\" class=\"data row0 col1\" >$3.20</td>\n",
       "                        <td id=\"T_64962_row0_col2\" class=\"data row0 col2\" >$361.94</td>\n",
       "                        <td id=\"T_64962_row0_col3\" class=\"data row0 col3\" >$4.47</td>\n",
       "            </tr>\n",
       "            <tr>\n",
       "                        <th id=\"T_64962_level0_row1\" class=\"row_heading level0 row1\" >Male</th>\n",
       "                        <td id=\"T_64962_row1_col0\" class=\"data row1 col0\" >652</td>\n",
       "                        <td id=\"T_64962_row1_col1\" class=\"data row1 col1\" >$3.02</td>\n",
       "                        <td id=\"T_64962_row1_col2\" class=\"data row1 col2\" >$1,967.64</td>\n",
       "                        <td id=\"T_64962_row1_col3\" class=\"data row1 col3\" >$4.07</td>\n",
       "            </tr>\n",
       "            <tr>\n",
       "                        <th id=\"T_64962_level0_row2\" class=\"row_heading level0 row2\" >Other / Non-Disclosed</th>\n",
       "                        <td id=\"T_64962_row2_col0\" class=\"data row2 col0\" >15</td>\n",
       "                        <td id=\"T_64962_row2_col1\" class=\"data row2 col1\" >$3.35</td>\n",
       "                        <td id=\"T_64962_row2_col2\" class=\"data row2 col2\" >$50.19</td>\n",
       "                        <td id=\"T_64962_row2_col3\" class=\"data row2 col3\" >$4.56</td>\n",
       "            </tr>\n",
       "    </tbody></table>"
      ],
      "text/plain": [
       "<pandas.io.formats.style.Styler at 0x7f8e677f7cd0>"
      ]
     },
     "execution_count": 5,
     "metadata": {},
     "output_type": "execute_result"
    }
   ],
   "source": [
    "# Make a group by gender\n",
    "gender_df = purchase_data_df.groupby('Gender')\n",
    "\n",
    "# Calculate the purchase count in this group\n",
    "gender_cnt = gender_df['Gender'].count()\n",
    "\n",
    "# Calculate the avagerage purchase price in this group\n",
    "avg_price = gender_df['Price'].mean()\n",
    "\n",
    "# Calculate the total purchase value in this group\n",
    "purchase_tot = gender_df['Price'].sum()\n",
    "\n",
    "# Calculate the average total purchase per person in this group\n",
    "avg_tot = purchase_tot / gender_df['SN'].nunique()\n",
    "\n",
    "# Make a summary data frame to hold the results\n",
    "gender_analysis_df = pd.DataFrame({\n",
    "    'Purchase Count': gender_cnt,\n",
    "    'Average Purchase Price': avg_price, \n",
    "    'Total Purchase Value': purchase_tot, \n",
    "    'Avg Total Purchase per Person': avg_tot})\n",
    "\n",
    "# Format and display\n",
    "gender_analysis_df.style.format({\n",
    "    'Average Purchase Price': '${:,.2f}', \n",
    "    'Total Purchase Value': '${:,.2f}', \n",
    "    'Avg Total Purchase per Person': '${:,.2f}'})"
   ]
  },
  {
   "cell_type": "markdown",
   "metadata": {},
   "source": [
    "## Age Demographics"
   ]
  },
  {
   "cell_type": "markdown",
   "metadata": {},
   "source": [
    "* Establish bins for ages\n",
    "\n",
    "\n",
    "* Categorize the existing players using the age bins. Hint: use pd.cut()\n",
    "\n",
    "\n",
    "* Calculate the numbers and percentages by age group\n",
    "\n",
    "\n",
    "* Create a summary data frame to hold the results\n",
    "\n",
    "\n",
    "* Optional: round the percentage column to two decimal points\n",
    "\n",
    "\n",
    "* Display Age Demographics Table\n"
   ]
  },
  {
   "cell_type": "code",
   "execution_count": 6,
   "metadata": {},
   "outputs": [
    {
     "data": {
      "text/html": [
       "<style  type=\"text/css\" >\n",
       "</style><table id=\"T_0a9bb_\" ><thead>    <tr>        <th class=\"blank level0\" ></th>        <th class=\"col_heading level0 col0\" >Total Count</th>        <th class=\"col_heading level0 col1\" >Percentage of Players</th>    </tr>    <tr>        <th class=\"index_name level0\" >Age Group</th>        <th class=\"blank\" ></th>        <th class=\"blank\" ></th>    </tr></thead><tbody>\n",
       "                <tr>\n",
       "                        <th id=\"T_0a9bb_level0_row0\" class=\"row_heading level0 row0\" ><10</th>\n",
       "                        <td id=\"T_0a9bb_row0_col0\" class=\"data row0 col0\" >17</td>\n",
       "                        <td id=\"T_0a9bb_row0_col1\" class=\"data row0 col1\" >2.95%</td>\n",
       "            </tr>\n",
       "            <tr>\n",
       "                        <th id=\"T_0a9bb_level0_row1\" class=\"row_heading level0 row1\" >10-14</th>\n",
       "                        <td id=\"T_0a9bb_row1_col0\" class=\"data row1 col0\" >22</td>\n",
       "                        <td id=\"T_0a9bb_row1_col1\" class=\"data row1 col1\" >3.82%</td>\n",
       "            </tr>\n",
       "            <tr>\n",
       "                        <th id=\"T_0a9bb_level0_row2\" class=\"row_heading level0 row2\" >15-19</th>\n",
       "                        <td id=\"T_0a9bb_row2_col0\" class=\"data row2 col0\" >107</td>\n",
       "                        <td id=\"T_0a9bb_row2_col1\" class=\"data row2 col1\" >18.58%</td>\n",
       "            </tr>\n",
       "            <tr>\n",
       "                        <th id=\"T_0a9bb_level0_row3\" class=\"row_heading level0 row3\" >20-24</th>\n",
       "                        <td id=\"T_0a9bb_row3_col0\" class=\"data row3 col0\" >258</td>\n",
       "                        <td id=\"T_0a9bb_row3_col1\" class=\"data row3 col1\" >44.79%</td>\n",
       "            </tr>\n",
       "            <tr>\n",
       "                        <th id=\"T_0a9bb_level0_row4\" class=\"row_heading level0 row4\" >25-29</th>\n",
       "                        <td id=\"T_0a9bb_row4_col0\" class=\"data row4 col0\" >77</td>\n",
       "                        <td id=\"T_0a9bb_row4_col1\" class=\"data row4 col1\" >13.37%</td>\n",
       "            </tr>\n",
       "            <tr>\n",
       "                        <th id=\"T_0a9bb_level0_row5\" class=\"row_heading level0 row5\" >30-34</th>\n",
       "                        <td id=\"T_0a9bb_row5_col0\" class=\"data row5 col0\" >52</td>\n",
       "                        <td id=\"T_0a9bb_row5_col1\" class=\"data row5 col1\" >9.03%</td>\n",
       "            </tr>\n",
       "            <tr>\n",
       "                        <th id=\"T_0a9bb_level0_row6\" class=\"row_heading level0 row6\" >35-39</th>\n",
       "                        <td id=\"T_0a9bb_row6_col0\" class=\"data row6 col0\" >31</td>\n",
       "                        <td id=\"T_0a9bb_row6_col1\" class=\"data row6 col1\" >5.38%</td>\n",
       "            </tr>\n",
       "            <tr>\n",
       "                        <th id=\"T_0a9bb_level0_row7\" class=\"row_heading level0 row7\" >40+</th>\n",
       "                        <td id=\"T_0a9bb_row7_col0\" class=\"data row7 col0\" >12</td>\n",
       "                        <td id=\"T_0a9bb_row7_col1\" class=\"data row7 col1\" >2.08%</td>\n",
       "            </tr>\n",
       "    </tbody></table>"
      ],
      "text/plain": [
       "<pandas.io.formats.style.Styler at 0x7f8e6892a820>"
      ]
     },
     "execution_count": 6,
     "metadata": {},
     "output_type": "execute_result"
    }
   ],
   "source": [
    "# Make age bins\n",
    "age_bins = [0, 9.9, 14.9, 19.9, 24.9, 29.9, 34.9, 39.9, 100]\n",
    "\n",
    "# Make bin names\n",
    "age_labels = ['<10', '10-14', '15-19', '20-24', '25-29', '30-34', '35-39', '40+']\n",
    "\n",
    "# Add a column for age group to bin the age of each purchase\n",
    "purchase_data_df['Age Group'] = pd.cut(purchase_data_df['Age'], age_bins, labels=age_labels)\n",
    "\n",
    "# Make it a group\n",
    "age_group_df = purchase_data_df.groupby('Age Group')\n",
    "\n",
    "# Calculate the number of players by age\n",
    "age_cnt = age_group_df['SN'].nunique()\n",
    "\n",
    "# Calculate the percentage of players by age\n",
    "age_pct = age_cnt / player_count\n",
    "\n",
    "# Make a summary data frame to hold the results\n",
    "age_demographics_df = pd.DataFrame({'Total Count': age_cnt, 'Percentage of Players': age_pct})\n",
    "\n",
    "# Format and display\n",
    "age_demographics_df.style.format({'Percentage of Players': '{:,.2%}'})"
   ]
  },
  {
   "cell_type": "markdown",
   "metadata": {},
   "source": [
    "## Purchasing Analysis (Age)"
   ]
  },
  {
   "cell_type": "markdown",
   "metadata": {},
   "source": [
    "* Bin the purchase_data data frame by age\n",
    "\n",
    "\n",
    "* Run basic calculations to obtain purchase count, avg. purchase price, avg. purchase total per person etc. in the table below\n",
    "\n",
    "\n",
    "* Create a summary data frame to hold the results\n",
    "\n",
    "\n",
    "* Optional: give the displayed data cleaner formatting\n",
    "\n",
    "\n",
    "* Display the summary data frame"
   ]
  },
  {
   "cell_type": "code",
   "execution_count": 7,
   "metadata": {},
   "outputs": [
    {
     "data": {
      "text/html": [
       "<style  type=\"text/css\" >\n",
       "</style><table id=\"T_fabbc_\" ><thead>    <tr>        <th class=\"blank level0\" ></th>        <th class=\"col_heading level0 col0\" >Purchase Count</th>        <th class=\"col_heading level0 col1\" >Average Purchase Price</th>        <th class=\"col_heading level0 col2\" >Total Purchase Value</th>        <th class=\"col_heading level0 col3\" >Avg Total Purchase per Person</th>    </tr>    <tr>        <th class=\"index_name level0\" >Age Group</th>        <th class=\"blank\" ></th>        <th class=\"blank\" ></th>        <th class=\"blank\" ></th>        <th class=\"blank\" ></th>    </tr></thead><tbody>\n",
       "                <tr>\n",
       "                        <th id=\"T_fabbc_level0_row0\" class=\"row_heading level0 row0\" ><10</th>\n",
       "                        <td id=\"T_fabbc_row0_col0\" class=\"data row0 col0\" >23</td>\n",
       "                        <td id=\"T_fabbc_row0_col1\" class=\"data row0 col1\" >$3.35</td>\n",
       "                        <td id=\"T_fabbc_row0_col2\" class=\"data row0 col2\" >$77.13</td>\n",
       "                        <td id=\"T_fabbc_row0_col3\" class=\"data row0 col3\" >$4.54</td>\n",
       "            </tr>\n",
       "            <tr>\n",
       "                        <th id=\"T_fabbc_level0_row1\" class=\"row_heading level0 row1\" >10-14</th>\n",
       "                        <td id=\"T_fabbc_row1_col0\" class=\"data row1 col0\" >28</td>\n",
       "                        <td id=\"T_fabbc_row1_col1\" class=\"data row1 col1\" >$2.96</td>\n",
       "                        <td id=\"T_fabbc_row1_col2\" class=\"data row1 col2\" >$82.78</td>\n",
       "                        <td id=\"T_fabbc_row1_col3\" class=\"data row1 col3\" >$3.76</td>\n",
       "            </tr>\n",
       "            <tr>\n",
       "                        <th id=\"T_fabbc_level0_row2\" class=\"row_heading level0 row2\" >15-19</th>\n",
       "                        <td id=\"T_fabbc_row2_col0\" class=\"data row2 col0\" >136</td>\n",
       "                        <td id=\"T_fabbc_row2_col1\" class=\"data row2 col1\" >$3.04</td>\n",
       "                        <td id=\"T_fabbc_row2_col2\" class=\"data row2 col2\" >$412.89</td>\n",
       "                        <td id=\"T_fabbc_row2_col3\" class=\"data row2 col3\" >$3.86</td>\n",
       "            </tr>\n",
       "            <tr>\n",
       "                        <th id=\"T_fabbc_level0_row3\" class=\"row_heading level0 row3\" >20-24</th>\n",
       "                        <td id=\"T_fabbc_row3_col0\" class=\"data row3 col0\" >365</td>\n",
       "                        <td id=\"T_fabbc_row3_col1\" class=\"data row3 col1\" >$3.05</td>\n",
       "                        <td id=\"T_fabbc_row3_col2\" class=\"data row3 col2\" >$1,114.06</td>\n",
       "                        <td id=\"T_fabbc_row3_col3\" class=\"data row3 col3\" >$4.32</td>\n",
       "            </tr>\n",
       "            <tr>\n",
       "                        <th id=\"T_fabbc_level0_row4\" class=\"row_heading level0 row4\" >25-29</th>\n",
       "                        <td id=\"T_fabbc_row4_col0\" class=\"data row4 col0\" >101</td>\n",
       "                        <td id=\"T_fabbc_row4_col1\" class=\"data row4 col1\" >$2.90</td>\n",
       "                        <td id=\"T_fabbc_row4_col2\" class=\"data row4 col2\" >$293.00</td>\n",
       "                        <td id=\"T_fabbc_row4_col3\" class=\"data row4 col3\" >$3.81</td>\n",
       "            </tr>\n",
       "            <tr>\n",
       "                        <th id=\"T_fabbc_level0_row5\" class=\"row_heading level0 row5\" >30-34</th>\n",
       "                        <td id=\"T_fabbc_row5_col0\" class=\"data row5 col0\" >73</td>\n",
       "                        <td id=\"T_fabbc_row5_col1\" class=\"data row5 col1\" >$2.93</td>\n",
       "                        <td id=\"T_fabbc_row5_col2\" class=\"data row5 col2\" >$214.00</td>\n",
       "                        <td id=\"T_fabbc_row5_col3\" class=\"data row5 col3\" >$4.12</td>\n",
       "            </tr>\n",
       "            <tr>\n",
       "                        <th id=\"T_fabbc_level0_row6\" class=\"row_heading level0 row6\" >35-39</th>\n",
       "                        <td id=\"T_fabbc_row6_col0\" class=\"data row6 col0\" >41</td>\n",
       "                        <td id=\"T_fabbc_row6_col1\" class=\"data row6 col1\" >$3.60</td>\n",
       "                        <td id=\"T_fabbc_row6_col2\" class=\"data row6 col2\" >$147.67</td>\n",
       "                        <td id=\"T_fabbc_row6_col3\" class=\"data row6 col3\" >$4.76</td>\n",
       "            </tr>\n",
       "            <tr>\n",
       "                        <th id=\"T_fabbc_level0_row7\" class=\"row_heading level0 row7\" >40+</th>\n",
       "                        <td id=\"T_fabbc_row7_col0\" class=\"data row7 col0\" >13</td>\n",
       "                        <td id=\"T_fabbc_row7_col1\" class=\"data row7 col1\" >$2.94</td>\n",
       "                        <td id=\"T_fabbc_row7_col2\" class=\"data row7 col2\" >$38.24</td>\n",
       "                        <td id=\"T_fabbc_row7_col3\" class=\"data row7 col3\" >$3.19</td>\n",
       "            </tr>\n",
       "    </tbody></table>"
      ],
      "text/plain": [
       "<pandas.io.formats.style.Styler at 0x7f8e68933190>"
      ]
     },
     "execution_count": 7,
     "metadata": {},
     "output_type": "execute_result"
    }
   ],
   "source": [
    "# Count purchases by age group\n",
    "purchase_cnt = age_group_df['Purchase ID'].count()\n",
    "\n",
    "# Calculate the average purchase price\n",
    "purchase_avg = age_group_df['Price'].mean()\n",
    "\n",
    "# Calculate the total purchase value\n",
    "purchase_val = age_group_df['Price'].sum()\n",
    "\n",
    "# Calculate the average total purchase per person\n",
    "avg_purchase_per = purchase_val / age_cnt\n",
    "\n",
    "# Make a summary data frame to hold the results\n",
    "purchase_analysis_df = pd.DataFrame({\n",
    "    'Purchase Count': purchase_cnt, \n",
    "    'Average Purchase Price': purchase_avg, \n",
    "    'Total Purchase Value': purchase_val, \n",
    "    'Avg Total Purchase per Person': avg_purchase_per})\n",
    "\n",
    "# Format and display\n",
    "purchase_analysis_df.style.format({\n",
    "    'Average Purchase Price': '${:,.2f}', \n",
    "    'Total Purchase Value': '${:,.2f}', \n",
    "    'Avg Total Purchase per Person': '${:,.2f}'})"
   ]
  },
  {
   "cell_type": "markdown",
   "metadata": {},
   "source": [
    "## Top Spenders"
   ]
  },
  {
   "cell_type": "markdown",
   "metadata": {},
   "source": [
    "* Run basic calculations to obtain the results in the table below\n",
    "\n",
    "\n",
    "* Create a summary data frame to hold the results\n",
    "\n",
    "\n",
    "* Sort the total purchase value column in descending order\n",
    "\n",
    "\n",
    "* Optional: give the displayed data cleaner formatting\n",
    "\n",
    "\n",
    "* Display a preview of the summary data frame\n",
    "\n"
   ]
  },
  {
   "cell_type": "code",
   "execution_count": 8,
   "metadata": {},
   "outputs": [
    {
     "data": {
      "text/html": [
       "<style  type=\"text/css\" >\n",
       "</style><table id=\"T_cb1b1_\" ><thead>    <tr>        <th class=\"blank level0\" ></th>        <th class=\"col_heading level0 col0\" >Purchase Count</th>        <th class=\"col_heading level0 col1\" >Average Purchase Price</th>        <th class=\"col_heading level0 col2\" >Total Purchase Value</th>    </tr>    <tr>        <th class=\"index_name level0\" >SN</th>        <th class=\"blank\" ></th>        <th class=\"blank\" ></th>        <th class=\"blank\" ></th>    </tr></thead><tbody>\n",
       "                <tr>\n",
       "                        <th id=\"T_cb1b1_level0_row0\" class=\"row_heading level0 row0\" >Lisosia93</th>\n",
       "                        <td id=\"T_cb1b1_row0_col0\" class=\"data row0 col0\" >5</td>\n",
       "                        <td id=\"T_cb1b1_row0_col1\" class=\"data row0 col1\" >$3.79</td>\n",
       "                        <td id=\"T_cb1b1_row0_col2\" class=\"data row0 col2\" >$18.96</td>\n",
       "            </tr>\n",
       "            <tr>\n",
       "                        <th id=\"T_cb1b1_level0_row1\" class=\"row_heading level0 row1\" >Idastidru52</th>\n",
       "                        <td id=\"T_cb1b1_row1_col0\" class=\"data row1 col0\" >4</td>\n",
       "                        <td id=\"T_cb1b1_row1_col1\" class=\"data row1 col1\" >$3.86</td>\n",
       "                        <td id=\"T_cb1b1_row1_col2\" class=\"data row1 col2\" >$15.45</td>\n",
       "            </tr>\n",
       "            <tr>\n",
       "                        <th id=\"T_cb1b1_level0_row2\" class=\"row_heading level0 row2\" >Chamjask73</th>\n",
       "                        <td id=\"T_cb1b1_row2_col0\" class=\"data row2 col0\" >3</td>\n",
       "                        <td id=\"T_cb1b1_row2_col1\" class=\"data row2 col1\" >$4.61</td>\n",
       "                        <td id=\"T_cb1b1_row2_col2\" class=\"data row2 col2\" >$13.83</td>\n",
       "            </tr>\n",
       "            <tr>\n",
       "                        <th id=\"T_cb1b1_level0_row3\" class=\"row_heading level0 row3\" >Iral74</th>\n",
       "                        <td id=\"T_cb1b1_row3_col0\" class=\"data row3 col0\" >4</td>\n",
       "                        <td id=\"T_cb1b1_row3_col1\" class=\"data row3 col1\" >$3.40</td>\n",
       "                        <td id=\"T_cb1b1_row3_col2\" class=\"data row3 col2\" >$13.62</td>\n",
       "            </tr>\n",
       "            <tr>\n",
       "                        <th id=\"T_cb1b1_level0_row4\" class=\"row_heading level0 row4\" >Iskadarya95</th>\n",
       "                        <td id=\"T_cb1b1_row4_col0\" class=\"data row4 col0\" >3</td>\n",
       "                        <td id=\"T_cb1b1_row4_col1\" class=\"data row4 col1\" >$4.37</td>\n",
       "                        <td id=\"T_cb1b1_row4_col2\" class=\"data row4 col2\" >$13.10</td>\n",
       "            </tr>\n",
       "    </tbody></table>"
      ],
      "text/plain": [
       "<pandas.io.formats.style.Styler at 0x7f8e67812520>"
      ]
     },
     "execution_count": 8,
     "metadata": {},
     "output_type": "execute_result"
    }
   ],
   "source": [
    "# Make a group by SN\n",
    "spender_df = purchase_data_df.groupby('SN')\n",
    "\n",
    "# Count purchases\n",
    "spender_cnt = spender_df['SN'].count()\n",
    "\n",
    "# Calculate the average purchase price\n",
    "spender_avg = spender_df['Price'].mean()\n",
    "\n",
    "# Calculate the total purchase price\n",
    "spender_tot = spender_df['Price'].sum()\n",
    "\n",
    "# Make a summary data frame to hold the results\n",
    "top_spenders_df = pd.DataFrame({\n",
    "    'Purchase Count': spender_cnt, \n",
    "    'Average Purchase Price': spender_avg, \n",
    "    'Total Purchase Value': spender_tot})\n",
    "\n",
    "# Return the top 5 spenders and sort by total purchase value\n",
    "top_spenders_df = top_spenders_df.sort_values(['Total Purchase Value'], ascending=False).nlargest(5, 'Total Purchase Value')\n",
    "\n",
    "# Format and display\n",
    "top_spenders_df.style.format({'Average Purchase Price': '${:,.2f}', 'Total Purchase Value': '${:,.2f}'})"
   ]
  },
  {
   "cell_type": "markdown",
   "metadata": {},
   "source": [
    "## Most Popular Items"
   ]
  },
  {
   "cell_type": "markdown",
   "metadata": {},
   "source": [
    "* Retrieve the Item ID, Item Name, and Item Price columns\n",
    "\n",
    "\n",
    "* Group by Item ID and Item Name. Perform calculations to obtain purchase count, average item price, and total purchase value\n",
    "\n",
    "\n",
    "* Create a summary data frame to hold the results\n",
    "\n",
    "\n",
    "* Sort the purchase count column in descending order\n",
    "\n",
    "\n",
    "* Optional: give the displayed data cleaner formatting\n",
    "\n",
    "\n",
    "* Display a preview of the summary data frame\n",
    "\n"
   ]
  },
  {
   "cell_type": "code",
   "execution_count": 17,
   "metadata": {},
   "outputs": [
    {
     "data": {
      "text/html": [
       "<style  type=\"text/css\" >\n",
       "</style><table id=\"T_74de7_\" ><thead>    <tr>        <th class=\"blank\" ></th>        <th class=\"blank level0\" ></th>        <th class=\"col_heading level0 col0\" >Purchase Count</th>        <th class=\"col_heading level0 col1\" >Item Price</th>        <th class=\"col_heading level0 col2\" >Total Purchase Value</th>    </tr>    <tr>        <th class=\"index_name level0\" >Item ID</th>        <th class=\"index_name level1\" >Item Name</th>        <th class=\"blank\" ></th>        <th class=\"blank\" ></th>        <th class=\"blank\" ></th>    </tr></thead><tbody>\n",
       "                <tr>\n",
       "                        <th id=\"T_74de7_level0_row0\" class=\"row_heading level0 row0\" >92</th>\n",
       "                        <th id=\"T_74de7_level1_row0\" class=\"row_heading level1 row0\" >Final Critic</th>\n",
       "                        <td id=\"T_74de7_row0_col0\" class=\"data row0 col0\" >13</td>\n",
       "                        <td id=\"T_74de7_row0_col1\" class=\"data row0 col1\" >$4.61</td>\n",
       "                        <td id=\"T_74de7_row0_col2\" class=\"data row0 col2\" >$59.99</td>\n",
       "            </tr>\n",
       "            <tr>\n",
       "                        <th id=\"T_74de7_level0_row1\" class=\"row_heading level0 row1\" >178</th>\n",
       "                        <th id=\"T_74de7_level1_row1\" class=\"row_heading level1 row1\" >Oathbreaker, Last Hope of the Breaking Storm</th>\n",
       "                        <td id=\"T_74de7_row1_col0\" class=\"data row1 col0\" >12</td>\n",
       "                        <td id=\"T_74de7_row1_col1\" class=\"data row1 col1\" >$4.23</td>\n",
       "                        <td id=\"T_74de7_row1_col2\" class=\"data row1 col2\" >$50.76</td>\n",
       "            </tr>\n",
       "            <tr>\n",
       "                        <th id=\"T_74de7_level0_row2\" class=\"row_heading level0 row2\" >145</th>\n",
       "                        <th id=\"T_74de7_level1_row2\" class=\"row_heading level1 row2\" >Fiery Glass Crusader</th>\n",
       "                        <td id=\"T_74de7_row2_col0\" class=\"data row2 col0\" >9</td>\n",
       "                        <td id=\"T_74de7_row2_col1\" class=\"data row2 col1\" >$4.58</td>\n",
       "                        <td id=\"T_74de7_row2_col2\" class=\"data row2 col2\" >$41.22</td>\n",
       "            </tr>\n",
       "            <tr>\n",
       "                        <th id=\"T_74de7_level0_row3\" class=\"row_heading level0 row3\" >132</th>\n",
       "                        <th id=\"T_74de7_level1_row3\" class=\"row_heading level1 row3\" >Persuasion</th>\n",
       "                        <td id=\"T_74de7_row3_col0\" class=\"data row3 col0\" >9</td>\n",
       "                        <td id=\"T_74de7_row3_col1\" class=\"data row3 col1\" >$3.22</td>\n",
       "                        <td id=\"T_74de7_row3_col2\" class=\"data row3 col2\" >$28.99</td>\n",
       "            </tr>\n",
       "            <tr>\n",
       "                        <th id=\"T_74de7_level0_row4\" class=\"row_heading level0 row4\" >108</th>\n",
       "                        <th id=\"T_74de7_level1_row4\" class=\"row_heading level1 row4\" >Extraction, Quickblade Of Trembling Hands</th>\n",
       "                        <td id=\"T_74de7_row4_col0\" class=\"data row4 col0\" >9</td>\n",
       "                        <td id=\"T_74de7_row4_col1\" class=\"data row4 col1\" >$3.53</td>\n",
       "                        <td id=\"T_74de7_row4_col2\" class=\"data row4 col2\" >$31.77</td>\n",
       "            </tr>\n",
       "    </tbody></table>"
      ],
      "text/plain": [
       "<pandas.io.formats.style.Styler at 0x7f8e68913b20>"
      ]
     },
     "execution_count": 17,
     "metadata": {},
     "output_type": "execute_result"
    }
   ],
   "source": [
    "# Make a group by item ID and item name\n",
    "popular_df = purchase_data_df.groupby(['Item ID', 'Item Name'])\n",
    "\n",
    "# Count purchases by item ID\n",
    "popular_cnt = popular_df['Item ID'].count()\n",
    "\n",
    "# Calculate the total purchase value\n",
    "popular_val = popular_df['Price'].sum()\n",
    "\n",
    "# Calculate the item price\n",
    "item_price = popular_val / popular_cnt\n",
    "\n",
    "# Make a summary data frame to hold the results\n",
    "item_data_df = pd.DataFrame({\n",
    "    'Purchase Count': popular_cnt, \n",
    "    'Item Price': item_price, \n",
    "    'Total Purchase Value': popular_val})\n",
    "\n",
    "# Return the top 5 most popular items and sort in descending order\n",
    "top_popular_df = item_data_df.sort_values(['Purchase Count'], ascending=False).nlargest(5, 'Purchase Count')\n",
    "\n",
    "# Format and display\n",
    "top_popular_df.style.format({'Item Price': '${:,.2f}', 'Total Purchase Value': '${:,.2f}'})"
   ]
  },
  {
   "cell_type": "markdown",
   "metadata": {},
   "source": [
    "## Most Profitable Items"
   ]
  },
  {
   "cell_type": "markdown",
   "metadata": {},
   "source": [
    "* Sort the above table by total purchase value in descending order\n",
    "\n",
    "\n",
    "* Optional: give the displayed data cleaner formatting\n",
    "\n",
    "\n",
    "* Display a preview of the data frame\n",
    "\n"
   ]
  },
  {
   "cell_type": "code",
   "execution_count": 19,
   "metadata": {
    "scrolled": true
   },
   "outputs": [
    {
     "data": {
      "text/html": [
       "<style  type=\"text/css\" >\n",
       "</style><table id=\"T_5f1b7_\" ><thead>    <tr>        <th class=\"blank\" ></th>        <th class=\"blank level0\" ></th>        <th class=\"col_heading level0 col0\" >Purchase Count</th>        <th class=\"col_heading level0 col1\" >Item Price</th>        <th class=\"col_heading level0 col2\" >Total Purchase Value</th>    </tr>    <tr>        <th class=\"index_name level0\" >Item ID</th>        <th class=\"index_name level1\" >Item Name</th>        <th class=\"blank\" ></th>        <th class=\"blank\" ></th>        <th class=\"blank\" ></th>    </tr></thead><tbody>\n",
       "                <tr>\n",
       "                        <th id=\"T_5f1b7_level0_row0\" class=\"row_heading level0 row0\" >92</th>\n",
       "                        <th id=\"T_5f1b7_level1_row0\" class=\"row_heading level1 row0\" >Final Critic</th>\n",
       "                        <td id=\"T_5f1b7_row0_col0\" class=\"data row0 col0\" >13</td>\n",
       "                        <td id=\"T_5f1b7_row0_col1\" class=\"data row0 col1\" >$4.61</td>\n",
       "                        <td id=\"T_5f1b7_row0_col2\" class=\"data row0 col2\" >$59.99</td>\n",
       "            </tr>\n",
       "            <tr>\n",
       "                        <th id=\"T_5f1b7_level0_row1\" class=\"row_heading level0 row1\" >178</th>\n",
       "                        <th id=\"T_5f1b7_level1_row1\" class=\"row_heading level1 row1\" >Oathbreaker, Last Hope of the Breaking Storm</th>\n",
       "                        <td id=\"T_5f1b7_row1_col0\" class=\"data row1 col0\" >12</td>\n",
       "                        <td id=\"T_5f1b7_row1_col1\" class=\"data row1 col1\" >$4.23</td>\n",
       "                        <td id=\"T_5f1b7_row1_col2\" class=\"data row1 col2\" >$50.76</td>\n",
       "            </tr>\n",
       "            <tr>\n",
       "                        <th id=\"T_5f1b7_level0_row2\" class=\"row_heading level0 row2\" >82</th>\n",
       "                        <th id=\"T_5f1b7_level1_row2\" class=\"row_heading level1 row2\" >Nirvana</th>\n",
       "                        <td id=\"T_5f1b7_row2_col0\" class=\"data row2 col0\" >9</td>\n",
       "                        <td id=\"T_5f1b7_row2_col1\" class=\"data row2 col1\" >$4.90</td>\n",
       "                        <td id=\"T_5f1b7_row2_col2\" class=\"data row2 col2\" >$44.10</td>\n",
       "            </tr>\n",
       "            <tr>\n",
       "                        <th id=\"T_5f1b7_level0_row3\" class=\"row_heading level0 row3\" >145</th>\n",
       "                        <th id=\"T_5f1b7_level1_row3\" class=\"row_heading level1 row3\" >Fiery Glass Crusader</th>\n",
       "                        <td id=\"T_5f1b7_row3_col0\" class=\"data row3 col0\" >9</td>\n",
       "                        <td id=\"T_5f1b7_row3_col1\" class=\"data row3 col1\" >$4.58</td>\n",
       "                        <td id=\"T_5f1b7_row3_col2\" class=\"data row3 col2\" >$41.22</td>\n",
       "            </tr>\n",
       "            <tr>\n",
       "                        <th id=\"T_5f1b7_level0_row4\" class=\"row_heading level0 row4\" >103</th>\n",
       "                        <th id=\"T_5f1b7_level1_row4\" class=\"row_heading level1 row4\" >Singed Scalpel</th>\n",
       "                        <td id=\"T_5f1b7_row4_col0\" class=\"data row4 col0\" >8</td>\n",
       "                        <td id=\"T_5f1b7_row4_col1\" class=\"data row4 col1\" >$4.35</td>\n",
       "                        <td id=\"T_5f1b7_row4_col2\" class=\"data row4 col2\" >$34.80</td>\n",
       "            </tr>\n",
       "    </tbody></table>"
      ],
      "text/plain": [
       "<pandas.io.formats.style.Styler at 0x7f8e68896760>"
      ]
     },
     "execution_count": 19,
     "metadata": {},
     "output_type": "execute_result"
    }
   ],
   "source": [
    "# Return the top 5 most profitalbe items and sort in descending order\n",
    "top_profitable_df = item_data_df.sort_values(['Total Purchase Value'], ascending=False).nlargest(5, 'Total Purchase Value')\n",
    "\n",
    "# Format and display\n",
    "top_profitable_df.style.format({'Item Price': '${:,.2f}', 'Total Purchase Value': '${:,.2f}'})"
   ]
  },
  {
   "cell_type": "code",
   "execution_count": 24,
   "metadata": {},
   "outputs": [
    {
     "ename": "SyntaxError",
     "evalue": "invalid syntax (<ipython-input-24-0eb65f742740>, line 2)",
     "output_type": "error",
     "traceback": [
      "\u001b[0;36m  File \u001b[0;32m\"<ipython-input-24-0eb65f742740>\"\u001b[0;36m, line \u001b[0;32m2\u001b[0m\n\u001b[0;31m    markdown =\u001b[0m\n\u001b[0m               ^\u001b[0m\n\u001b[0;31mSyntaxError\u001b[0m\u001b[0;31m:\u001b[0m invalid syntax\n"
     ]
    }
   ],
   "source": [
    "Observations:\n",
    "\n",
    "- Out of 576 players, 484 are male (84%), 81 are female (14%), and 11 are other (2%).\n",
    "\n",
    "- While men spend more overall, other and women have a higher average purchase price.\n",
    "\n",
    "- The largest number of players are in the 20-24 age group representing 45% of all players.\n",
    "\n",
    "- The bottom 3 most profitable games are less popular."
   ]
  }
 ],
 "metadata": {
  "anaconda-cloud": {},
  "interpreter": {
   "hash": "31f2aee4e71d21fbe5cf8b01ff0e069b9275f58929596ceb00d14d90e3e16cd6"
  },
  "kernel_info": {
   "name": "python3"
  },
  "kernelspec": {
   "display_name": "Python 3",
   "language": "python",
   "name": "python3"
  },
  "language_info": {
   "codemirror_mode": {
    "name": "ipython",
    "version": 3
   },
   "file_extension": ".py",
   "mimetype": "text/x-python",
   "name": "python",
   "nbconvert_exporter": "python",
   "pygments_lexer": "ipython3",
   "version": "3.8.8"
  },
  "latex_envs": {
   "LaTeX_envs_menu_present": true,
   "autoclose": false,
   "autocomplete": true,
   "bibliofile": "biblio.bib",
   "cite_by": "apalike",
   "current_citInitial": 1,
   "eqLabelWithNumbers": true,
   "eqNumInitial": 1,
   "hotkeys": {
    "equation": "Ctrl-E",
    "itemize": "Ctrl-I"
   },
   "labels_anchors": false,
   "latex_user_defs": false,
   "report_style_numbering": false,
   "user_envs_cfg": false
  },
  "nteract": {
   "version": "0.2.0"
  }
 },
 "nbformat": 4,
 "nbformat_minor": 2
}
